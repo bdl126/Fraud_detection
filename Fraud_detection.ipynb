{
 "cells": [
  {
   "cell_type": "code",
   "execution_count": 1,
   "metadata": {
    "colab": {},
    "colab_type": "code",
    "id": "Qmmmzgx-mGH-"
   },
   "outputs": [],
   "source": [
    "import numpy as np\n",
    "import sklearn as sk\n",
    "import pandas as pd\n",
    "import matplotlib.pyplot as plt\n",
    "from sklearn.preprocessing import scale\n",
    "import seaborn as sns\n"
   ]
  },
  {
   "cell_type": "code",
   "execution_count": 2,
   "metadata": {
    "colab": {
     "base_uri": "https://localhost:8080/",
     "height": 226
    },
    "colab_type": "code",
    "executionInfo": {
     "elapsed": 2135,
     "status": "ok",
     "timestamp": 1568042836520,
     "user": {
      "displayName": "Bruno De Lafontaine",
      "photoUrl": "https://lh3.googleusercontent.com/a-/AAuE7mCv3c42PfumtjWmLqtme4mgjCscijIVW86qd4l6Eg=s64",
      "userId": "07502027599735098251"
     },
     "user_tz": 240
    },
    "id": "BuI28KKym3iK",
    "outputId": "956d69fb-bba4-43c4-96ff-c501c9eb1ee6"
   },
   "outputs": [
    {
     "data": {
      "text/html": [
       "<div>\n",
       "<style scoped>\n",
       "    .dataframe tbody tr th:only-of-type {\n",
       "        vertical-align: middle;\n",
       "    }\n",
       "\n",
       "    .dataframe tbody tr th {\n",
       "        vertical-align: top;\n",
       "    }\n",
       "\n",
       "    .dataframe thead th {\n",
       "        text-align: right;\n",
       "    }\n",
       "</style>\n",
       "<table border=\"1\" class=\"dataframe\">\n",
       "  <thead>\n",
       "    <tr style=\"text-align: right;\">\n",
       "      <th></th>\n",
       "      <th>Time</th>\n",
       "      <th>V1</th>\n",
       "      <th>V2</th>\n",
       "      <th>V3</th>\n",
       "      <th>V4</th>\n",
       "      <th>V5</th>\n",
       "      <th>V6</th>\n",
       "      <th>V7</th>\n",
       "      <th>V8</th>\n",
       "      <th>V9</th>\n",
       "      <th>...</th>\n",
       "      <th>V21</th>\n",
       "      <th>V22</th>\n",
       "      <th>V23</th>\n",
       "      <th>V24</th>\n",
       "      <th>V25</th>\n",
       "      <th>V26</th>\n",
       "      <th>V27</th>\n",
       "      <th>V28</th>\n",
       "      <th>Amount</th>\n",
       "      <th>Class</th>\n",
       "    </tr>\n",
       "  </thead>\n",
       "  <tbody>\n",
       "    <tr>\n",
       "      <th>0</th>\n",
       "      <td>63491.0</td>\n",
       "      <td>-5.154021</td>\n",
       "      <td>-5.063897</td>\n",
       "      <td>-0.578159</td>\n",
       "      <td>0.291484</td>\n",
       "      <td>-0.569759</td>\n",
       "      <td>0.710331</td>\n",
       "      <td>0.955502</td>\n",
       "      <td>0.261072</td>\n",
       "      <td>0.967372</td>\n",
       "      <td>...</td>\n",
       "      <td>-0.341408</td>\n",
       "      <td>-0.929739</td>\n",
       "      <td>-1.097968</td>\n",
       "      <td>-1.056586</td>\n",
       "      <td>-0.132974</td>\n",
       "      <td>0.897327</td>\n",
       "      <td>1.080026</td>\n",
       "      <td>-1.404020</td>\n",
       "      <td>834.97</td>\n",
       "      <td>0</td>\n",
       "    </tr>\n",
       "    <tr>\n",
       "      <th>1</th>\n",
       "      <td>36962.0</td>\n",
       "      <td>1.102525</td>\n",
       "      <td>-0.462216</td>\n",
       "      <td>1.380379</td>\n",
       "      <td>1.052661</td>\n",
       "      <td>-1.083431</td>\n",
       "      <td>0.591557</td>\n",
       "      <td>-0.871807</td>\n",
       "      <td>0.351229</td>\n",
       "      <td>1.614009</td>\n",
       "      <td>...</td>\n",
       "      <td>-0.296797</td>\n",
       "      <td>-0.376794</td>\n",
       "      <td>0.064232</td>\n",
       "      <td>0.136096</td>\n",
       "      <td>0.260557</td>\n",
       "      <td>0.437381</td>\n",
       "      <td>0.040738</td>\n",
       "      <td>0.018013</td>\n",
       "      <td>9.95</td>\n",
       "      <td>0</td>\n",
       "    </tr>\n",
       "    <tr>\n",
       "      <th>2</th>\n",
       "      <td>41308.0</td>\n",
       "      <td>1.170812</td>\n",
       "      <td>0.066480</td>\n",
       "      <td>0.576424</td>\n",
       "      <td>0.577899</td>\n",
       "      <td>-0.645253</td>\n",
       "      <td>-0.807866</td>\n",
       "      <td>-0.096557</td>\n",
       "      <td>-0.007658</td>\n",
       "      <td>-0.048920</td>\n",
       "      <td>...</td>\n",
       "      <td>-0.196283</td>\n",
       "      <td>-0.701109</td>\n",
       "      <td>0.149418</td>\n",
       "      <td>0.498340</td>\n",
       "      <td>0.113536</td>\n",
       "      <td>0.066758</td>\n",
       "      <td>-0.043510</td>\n",
       "      <td>0.011157</td>\n",
       "      <td>17.99</td>\n",
       "      <td>0</td>\n",
       "    </tr>\n",
       "    <tr>\n",
       "      <th>3</th>\n",
       "      <td>89196.0</td>\n",
       "      <td>-0.403119</td>\n",
       "      <td>0.434126</td>\n",
       "      <td>-0.238276</td>\n",
       "      <td>-3.192074</td>\n",
       "      <td>0.834327</td>\n",
       "      <td>-1.707364</td>\n",
       "      <td>2.140568</td>\n",
       "      <td>-0.721126</td>\n",
       "      <td>0.841800</td>\n",
       "      <td>...</td>\n",
       "      <td>0.067215</td>\n",
       "      <td>0.598883</td>\n",
       "      <td>-0.192216</td>\n",
       "      <td>0.056011</td>\n",
       "      <td>0.213343</td>\n",
       "      <td>-0.410140</td>\n",
       "      <td>0.174489</td>\n",
       "      <td>0.003063</td>\n",
       "      <td>80.57</td>\n",
       "      <td>0</td>\n",
       "    </tr>\n",
       "    <tr>\n",
       "      <th>4</th>\n",
       "      <td>156233.0</td>\n",
       "      <td>1.404417</td>\n",
       "      <td>-1.250932</td>\n",
       "      <td>-0.806756</td>\n",
       "      <td>0.475530</td>\n",
       "      <td>-0.662776</td>\n",
       "      <td>-0.069252</td>\n",
       "      <td>-0.113961</td>\n",
       "      <td>0.007232</td>\n",
       "      <td>0.943377</td>\n",
       "      <td>...</td>\n",
       "      <td>-0.018967</td>\n",
       "      <td>-0.599758</td>\n",
       "      <td>0.081694</td>\n",
       "      <td>-0.502178</td>\n",
       "      <td>-0.536098</td>\n",
       "      <td>-0.683851</td>\n",
       "      <td>-0.025494</td>\n",
       "      <td>0.004301</td>\n",
       "      <td>297.63</td>\n",
       "      <td>0</td>\n",
       "    </tr>\n",
       "  </tbody>\n",
       "</table>\n",
       "<p>5 rows × 31 columns</p>\n",
       "</div>"
      ],
      "text/plain": [
       "       Time        V1        V2        V3        V4        V5        V6  \\\n",
       "0   63491.0 -5.154021 -5.063897 -0.578159  0.291484 -0.569759  0.710331   \n",
       "1   36962.0  1.102525 -0.462216  1.380379  1.052661 -1.083431  0.591557   \n",
       "2   41308.0  1.170812  0.066480  0.576424  0.577899 -0.645253 -0.807866   \n",
       "3   89196.0 -0.403119  0.434126 -0.238276 -3.192074  0.834327 -1.707364   \n",
       "4  156233.0  1.404417 -1.250932 -0.806756  0.475530 -0.662776 -0.069252   \n",
       "\n",
       "         V7        V8        V9  ...       V21       V22       V23       V24  \\\n",
       "0  0.955502  0.261072  0.967372  ... -0.341408 -0.929739 -1.097968 -1.056586   \n",
       "1 -0.871807  0.351229  1.614009  ... -0.296797 -0.376794  0.064232  0.136096   \n",
       "2 -0.096557 -0.007658 -0.048920  ... -0.196283 -0.701109  0.149418  0.498340   \n",
       "3  2.140568 -0.721126  0.841800  ...  0.067215  0.598883 -0.192216  0.056011   \n",
       "4 -0.113961  0.007232  0.943377  ... -0.018967 -0.599758  0.081694 -0.502178   \n",
       "\n",
       "        V25       V26       V27       V28  Amount  Class  \n",
       "0 -0.132974  0.897327  1.080026 -1.404020  834.97      0  \n",
       "1  0.260557  0.437381  0.040738  0.018013    9.95      0  \n",
       "2  0.113536  0.066758 -0.043510  0.011157   17.99      0  \n",
       "3  0.213343 -0.410140  0.174489  0.003063   80.57      0  \n",
       "4 -0.536098 -0.683851 -0.025494  0.004301  297.63      0  \n",
       "\n",
       "[5 rows x 31 columns]"
      ]
     },
     "execution_count": 2,
     "metadata": {},
     "output_type": "execute_result"
    }
   ],
   "source": [
    "df = pd.read_csv('creditcard.csv', low_memory=False)\n",
    "df = df.sample(frac=1).reset_index(drop=True)\n",
    "df.head()"
   ]
  },
  {
   "cell_type": "code",
   "execution_count": 3,
   "metadata": {
    "colab": {
     "base_uri": "https://localhost:8080/",
     "height": 52
    },
    "colab_type": "code",
    "executionInfo": {
     "elapsed": 559,
     "status": "ok",
     "timestamp": 1568042886035,
     "user": {
      "displayName": "Bruno De Lafontaine",
      "photoUrl": "https://lh3.googleusercontent.com/a-/AAuE7mCv3c42PfumtjWmLqtme4mgjCscijIVW86qd4l6Eg=s64",
      "userId": "07502027599735098251"
     },
     "user_tz": 240
    },
    "id": "UHHzAxf5oKer",
    "outputId": "22e07e33-01c5-4fce-adff-02d6ec8b7768"
   },
   "outputs": [
    {
     "name": "stdout",
     "output_type": "stream",
     "text": [
      "492\n",
      "284315\n"
     ]
    }
   ],
   "source": [
    "fraud=df.loc[df['Class']==1]\n",
    "non_frauds=df.loc[df['Class']==0]\n",
    "print(len(fraud))\n",
    "print(len(non_frauds))"
   ]
  },
  {
   "cell_type": "code",
   "execution_count": 4,
   "metadata": {},
   "outputs": [
    {
     "data": {
      "text/plain": [
       "<matplotlib.axes._subplots.AxesSubplot at 0x7f14c5b82048>"
      ]
     },
     "execution_count": 4,
     "metadata": {},
     "output_type": "execute_result"
    },
    {
     "data": {
      "image/png": "[encoded data removed]",
      "text/plain": [
       "<Figure size 432x288 with 1 Axes>"
      ]
     },
     "metadata": {},
     "output_type": "display_data"
    }
   ],
   "source": [
    "sns.set(style=\"whitegrid\", palette=\"muted\")\n",
    "data = pd.melt(df.loc[:,['V1','V2','V3','V4','V5','Class']].sample(n=400,random_state = 4), \"Class\", var_name=\"Amount\")\n",
    "sns.swarmplot(x=\"Amount\", y=\"value\",hue=\"Class\",palette=[\"r\", \"c\"], data=data)"
   ]
  },
  {
   "cell_type": "code",
   "execution_count": 5,
   "metadata": {
    "colab": {
     "base_uri": "https://localhost:8080/",
     "height": 283
    },
    "colab_type": "code",
    "executionInfo": {
     "elapsed": 2381,
     "status": "ok",
     "timestamp": 1568043071345,
     "user": {
      "displayName": "Bruno De Lafontaine",
      "photoUrl": "https://lh3.googleusercontent.com/a-/AAuE7mCv3c42PfumtjWmLqtme4mgjCscijIVW86qd4l6Eg=s64",
      "userId": "07502027599735098251"
     },
     "user_tz": 240
    },
    "id": "EWsIlB5Io7yy",
    "outputId": "0314d706-86a1-452c-aff3-616a9df3a9d4"
   },
   "outputs": [
    {
     "data": {
      "image/png": "[encoded data removed]",
      "text/plain": [
       "<Figure size 432x288 with 1 Axes>"
      ]
     },
     "metadata": {},
     "output_type": "display_data"
    }
   ],
   "source": [
    "ax = fraud.plot.scatter(x='Amount',y='Class', color='Orange',label='fraud')\n",
    "non_frauds.plot.scatter(x='Amount',y='Class', color='Blue',label='normal', ax=ax)\n",
    "plt.show()"
   ]
  },
  {
   "cell_type": "code",
   "execution_count": 6,
   "metadata": {
    "colab": {},
    "colab_type": "code",
    "id": "-xwQaTXGqUcq"
   },
   "outputs": [],
   "source": [
    "from sklearn import linear_model\n",
    "from sklearn.model_selection import train_test_split"
   ]
  },
  {
   "cell_type": "code",
   "execution_count": 7,
   "metadata": {},
   "outputs": [],
   "source": [
    "def normalize(X):\n",
    "    \n",
    "    for feature in X.columns:\n",
    "        X[feature] -= X[feature].mean()\n",
    "        X[feature] /= X[feature].std()\n",
    "    return X"
   ]
  },
  {
   "cell_type": "code",
   "execution_count": 8,
   "metadata": {
    "colab": {},
    "colab_type": "code",
    "id": "eTbDpuakqgu5"
   },
   "outputs": [],
   "source": [
    "x=df.iloc[:, :-1]\n",
    "y=df['Class']\n",
    "\n",
    "normalize(x)\n",
    "\n",
    "X_train, X_test, y_train, y_test =  train_test_split(x,y, test_size=0.25)"
   ]
  },
  {
   "cell_type": "code",
   "execution_count": 9,
   "metadata": {
    "colab": {
     "base_uri": "https://localhost:8080/",
     "height": 401
    },
    "colab_type": "code",
    "executionInfo": {
     "elapsed": 281,
     "status": "error",
     "timestamp": 1568044167880,
     "user": {
      "displayName": "Bruno De Lafontaine",
      "photoUrl": "https://lh3.googleusercontent.com/a-/AAuE7mCv3c42PfumtjWmLqtme4mgjCscijIVW86qd4l6Eg=s64",
      "userId": "07502027599735098251"
     },
     "user_tz": 240
    },
    "id": "ok5Wb5-Sq0-d",
    "outputId": "079bcb7d-4652-45cb-bfca-15e9b2524a21"
   },
   "outputs": [
    {
     "name": "stderr",
     "output_type": "stream",
     "text": [
      "/home/bru/anaconda3/lib/python3.6/site-packages/sklearn/linear_model/logistic.py:432: FutureWarning: Default solver will be changed to 'lbfgs' in 0.22. Specify a solver to silence this warning.\n",
      "  FutureWarning)\n"
     ]
    },
    {
     "name": "stdout",
     "output_type": "stream",
     "text": [
      "score: 0.9991573270413753\n"
     ]
    }
   ],
   "source": [
    "logistic=linear_model.LogisticRegression(C=1e2)\n",
    "logistic.fit(X_train,y_train)\n",
    "print(\"score:\",logistic.score(X_test, y_test))"
   ]
  },
  {
   "cell_type": "markdown",
   "metadata": {
    "colab_type": "text",
    "id": "JnppkqmdmP56"
   },
   "source": [
    "**Fraud Detection**\n",
    "\n",
    "our task \n",
    "\n",
    "- Explore the dataset/Visualize\n",
    "- Decide which featuyre are important\n",
    "- Performe machine learning\n",
    "- Test the model of the testing set"
   ]
  }
 ],
 "metadata": {
  "colab": {
   "collapsed_sections": [],
   "name": "Fraud_detection.ipynb",
   "provenance": [],
   "version": "0.3.2"
  },
  "kernelspec": {
   "display_name": "Python 3",
   "language": "python",
   "name": "python3"
  },
  "language_info": {
   "codemirror_mode": {
    "name": "ipython",
    "version": 3
   },
   "file_extension": ".py",
   "mimetype": "text/x-python",
   "name": "python",
   "nbconvert_exporter": "python",
   "pygments_lexer": "ipython3",
   "version": "3.6.8"
  }
 },
 "nbformat": 4,
 "nbformat_minor": 1
}
